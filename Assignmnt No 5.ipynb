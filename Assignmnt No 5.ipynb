{
 "cells": [
  {
   "cell_type": "code",
   "execution_count": 2,
   "metadata": {},
   "outputs": [
    {
     "name": "stdout",
     "output_type": "stream",
     "text": [
      "Enter any number : 5\n",
      "120\n"
     ]
    }
   ],
   "source": [
    "def factorial(num):\n",
    "    fac=1;\n",
    "    for a in range(1,num+1):\n",
    "        fac*=a\n",
    "    print(fac)\n",
    "\n",
    "\n",
    "num=int(input(\"Enter any number : \"))\n",
    "factorial(num)"
   ]
  },
  {
   "cell_type": "code",
   "execution_count": 4,
   "metadata": {},
   "outputs": [
    {
     "name": "stdout",
     "output_type": "stream",
     "text": [
      "enter any string : WardA\n",
      "No: of Lower Case Letters :  3\n",
      "No: of Upper Case Letters :  2\n"
     ]
    }
   ],
   "source": [
    "str=input(\"enter any string : \")\n",
    "x=0;\n",
    "y=0;\n",
    "for b in str:\n",
    "    if(b.islower()):\n",
    "        x+=1;\n",
    "    elif(b.isupper()):\n",
    "        y+=1;\n",
    "print(\"No: of Lower Case Letters : \",x)\n",
    "print(\"No: of Upper Case Letters : \",y)"
   ]
  },
  {
   "cell_type": "code",
   "execution_count": 3,
   "metadata": {},
   "outputs": [
    {
     "name": "stdout",
     "output_type": "stream",
     "text": [
      "Even :  [24, 78, 2, 34, 6, 12]\n"
     ]
    }
   ],
   "source": [
    "def even(lst):\n",
    "    lst1=[]\n",
    "    for x in lst:\n",
    "        result =  x % 2\n",
    "        if result == 0:\n",
    "            lst1.append(x)\n",
    "    print(\"Even : \",lst1)\n",
    "\n",
    "lst=[5,24,78,97,2,34,5,6,12]\n",
    "even(lst)"
   ]
  },
  {
   "cell_type": "code",
   "execution_count": 4,
   "metadata": {},
   "outputs": [
    {
     "name": "stdout",
     "output_type": "stream",
     "text": [
      "enter stringcivic\n",
      "civic string is palindrome\n"
     ]
    }
   ],
   "source": [
    "def palindrome(str):\n",
    "    x = \"\"\n",
    "    for i in str:\n",
    "        x+=i\n",
    "        if (a==x):\n",
    "            print(str + \" string is palindrome\")\n",
    "\n",
    "a=input(\"enter string\")\n",
    "palindrome(a)"
   ]
  },
  {
   "cell_type": "code",
   "execution_count": 5,
   "metadata": {},
   "outputs": [
    {
     "name": "stdout",
     "output_type": "stream",
     "text": [
      "Enter Number :6\n",
      "6 is not a prime number\n",
      "None\n"
     ]
    }
   ],
   "source": [
    "def test_prime(n):\n",
    "    if num > 1:\n",
    "        for i in range(2,num):\n",
    "            if (num % i) == 0:\n",
    "                print(num,\"is not a prime number\")\n",
    "                break\n",
    "        else:\n",
    "            print(num,\"is a prime number\")\n",
    "    else:\n",
    "        print(num,\"is not a prime number\")\n",
    "num=int(input(\"Enter Number :\"))\n",
    "print(test_prime(num))"
   ]
  },
  {
   "cell_type": "code",
   "execution_count": 5,
   "metadata": {},
   "outputs": [
    {
     "name": "stdout",
     "output_type": "stream",
     "text": [
      "Enter items :shoes dress bag coat\n",
      "shoes\n",
      "dress\n",
      "bag\n",
      "coat\n"
     ]
    }
   ],
   "source": [
    "def items(*item):\n",
    "   for x in item:\n",
    "       print(x)\n",
    "x = input(\"Enter items :\")\n",
    "y = x.split()\n",
    "items(*y)"
   ]
  },
  {
   "cell_type": "code",
   "execution_count": null,
   "metadata": {},
   "outputs": [],
   "source": []
  },
  {
   "cell_type": "code",
   "execution_count": null,
   "metadata": {},
   "outputs": [],
   "source": []
  }
 ],
 "metadata": {
  "kernelspec": {
   "display_name": "Python 3",
   "language": "python",
   "name": "python3"
  },
  "language_info": {
   "codemirror_mode": {
    "name": "ipython",
    "version": 3
   },
   "file_extension": ".py",
   "mimetype": "text/x-python",
   "name": "python",
   "nbconvert_exporter": "python",
   "pygments_lexer": "ipython3",
   "version": "3.7.4"
  }
 },
 "nbformat": 4,
 "nbformat_minor": 2
}
