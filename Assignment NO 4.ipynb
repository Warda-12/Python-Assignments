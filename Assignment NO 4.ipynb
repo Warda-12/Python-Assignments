{
 "cells": [
  {
   "cell_type": "code",
   "execution_count": 5,
   "metadata": {},
   "outputs": [
    {
     "name": "stdout",
     "output_type": "stream",
     "text": [
      "first_name:  Warda\n",
      "Last_name:  Shamim\n",
      "age:  24\n",
      "city:  karachi\n",
      "{'first_name': 'Warda', 'last_name': 'Shamim', 'age': 24, 'city': 'karachi', 'qualification': 'High AcademicLevel'}\n",
      "{'first_name': 'Warda', 'last_name': 'Shamim', 'age': 24, 'city': 'karachi'}\n"
     ]
    }
   ],
   "source": [
    "person = { \"first_name\":\"Warda\",\"last_name\":\"Shamim\",\"age\":24,\"city\":\"karachi\"}\n",
    "\n",
    "print(\"first_name: \" ,person[\"first_name\"])\n",
    "print(\"Last_name: \" ,person[\"last_name\"])\n",
    "print(\"age: \", person[\"age\"])\n",
    "print(\"city: \" ,person[\"city\"])\n",
    "\n",
    "#add\n",
    "person[\"qualification\"]=\"High AcademicLevel\"\n",
    "person.update()\n",
    "print(person)\n",
    "#pop\n",
    "person.pop(\"qualification\")\n",
    "print(person)"
   ]
  },
  {
   "cell_type": "code",
   "execution_count": 8,
   "metadata": {},
   "outputs": [
    {
     "name": "stdout",
     "output_type": "stream",
     "text": [
      "\n",
      "Karachi is in Pakistan\n",
      "It has a population of about 14.9 Million\n",
      "The fact of  Karachi is city of light\n",
      "\n",
      "Kuala lumpur is in Malaysia\n",
      "It has a population of about 1.73 millio\n",
      "The fact of  Kuala lumpur is Klang Valley\n",
      "\n",
      "istanbul is in Turkey\n",
      "It has a population of about 15.07 million\n",
      "The fact of  istanbul is Seven Hills like Rome\n"
     ]
    }
   ],
   "source": [
    "cities = {  'Karachi': {  'country': 'Pakistan', 'population': '14.9 Million', 'Fact': 'city of light',},\n",
    "          'Kuala lumpur': {'country': 'Malaysia', 'population': '1.73 millio', 'Fact': 'Klang Valley',},\n",
    "    'istanbul': { 'country': 'Turkey', 'population':'15.07 million', 'Fact': 'Seven Hills like Rome', } }\n",
    "\n",
    "for city, city_info in cities.items():\n",
    "    country = city_info['country']\n",
    "    population = city_info['population']\n",
    "    Fact = city_info['Fact']\n",
    "\n",
    "    print(\"\\n\" + city + \" is in \" + country )\n",
    "    print(\"It has a population of about \" + population)\n",
    "    print(\"The fact of  \" +city + \" is \" + Fact )"
   ]
  },
  {
   "cell_type": "code",
   "execution_count": 10,
   "metadata": {},
   "outputs": [
    {
     "name": "stdout",
     "output_type": "stream",
     "text": [
      "How many person u have to enter in movie theater: 3\n",
      "\n",
      "enter ur age: 12\n",
      " Ticket is $15 , charges apply \n",
      "\n",
      "enter ur age: 2\n",
      "Ticket is free ,no charges apply\n",
      "\n",
      "enter ur age: 16\n",
      " Ticket is $15 , charges apply \n",
      "\n",
      "Total Cost Of Tickets is  $25\n"
     ]
    }
   ],
   "source": [
    "person=int(input(\"How many person u have to enter in movie theater: \"))\n",
    "a=0\n",
    "b=10\n",
    "c=15\n",
    "while a < person:\n",
    "    person_age=int(input(\"\\nenter ur age: \"))\n",
    "    if (person_age<3): \n",
    "         print(\"Ticket is free ,no charges apply\")\n",
    "    elif (person_age > 3 and person_age < 12):\n",
    "         print(\" Ticket is $10 ,  charges apply \")\n",
    "    else:\n",
    "         print(\" Ticket is $15 , charges apply \")\n",
    "            \n",
    "    a=a+1\n",
    "    \n",
    "totalcost=int(b)+int(c)\n",
    "print('\\nTotal Cost Of Tickets is  $'+str(totalcost))"
   ]
  },
  {
   "cell_type": "code",
   "execution_count": 15,
   "metadata": {},
   "outputs": [
    {
     "name": "stdout",
     "output_type": "stream",
     "text": [
      "One of my favorite book is Jannat ky patty\n"
     ]
    }
   ],
   "source": [
    "def favorite_book( title):\n",
    "    \"function should print a message about favorite book\"\n",
    "    print(\"One of my favorite book is \" + title)\n",
    "\n",
    "favorite_book(\"Jannat ky patty\")"
   ]
  },
  {
   "cell_type": "code",
   "execution_count": 16,
   "metadata": {},
   "outputs": [
    {
     "name": "stdout",
     "output_type": "stream",
     "text": [
      "\n",
      "To win a game enter number which match with random number: 15\n",
      "u choice 15\n",
      "HINT:your choice number is greater than a random number\n",
      "\n",
      "To win a game again enter number which  match with random number: 11\n",
      "Hint :After added ur choice number in random number, answer is 17\n",
      "\n",
      "Last attempt \n",
      "To win a game again enter number which  match with random number: 6\n",
      "You Win , number match  6\n"
     ]
    }
   ],
   "source": [
    "import random\n",
    "list1 =[1,2,3,4,5,6,7,8,9,10,11,12,13,14,15,16,17,18,19,20,21,22,23,24,25,26,27,28,29,30]\n",
    "\n",
    "guess_num=int(input(\"\\nTo win a game enter number which match with random number: \"))\n",
    "print(\"u choice\",guess_num)\n",
    "\n",
    "a=random.choice(list1)\n",
    "\n",
    "if (guess_num==a):\n",
    "    print(\"You Win , number match \", a)\n",
    "elif (guess_num>a):\n",
    "    print(\"HINT:your choice number is greater than a random number\")\n",
    "    guess_num=int(input(\"\\nTo win a game again enter number which  match with random number: \"))\n",
    "    if (guess_num==a):\n",
    "        print(\"You Win , number match \",a)\n",
    "    elif (guess_num>a):   \n",
    "        add=guess_num+a;\n",
    "        print(\"Hint :After added ur choice number in random number, answer is\",add)\n",
    "        guess_num=int(input(\"\\nLast attempt \\nTo win a game again enter number which  match with random number: \"))\n",
    "        if (guess_num==a):\n",
    "            print(\"You Win , number match \",a)\n",
    "        else:\n",
    "            print(\"You Lost ,random number is\",a)\n",
    "    elif (guess_num<a):\n",
    "        add=guess_num+a;\n",
    "        print(\"Hint :After added ur choice number in random number, answer is\",add)\n",
    "        guess_num=int(input(\"\\nLast attempt \\nTo win a game again enter number which match with random number: \"))\n",
    "        if (guess_num==a):\n",
    "            print(\"You Win , number match \",a)\n",
    "        else:\n",
    "            print(\"You Lost ,random number is\",a)\n",
    "\n",
    "elif (guess_num<a):\n",
    "    print(\"HINT:your choice number is less than a random number\")\n",
    "    guess_num=int(input(\"\\n To win a game again enter number which  match with random number: \"))\n",
    "    if (guess_num==a):\n",
    "        print(\"You Win , number match \",a)\n",
    "    elif (guess_num>a):\n",
    "        sub=guess_num-a;\n",
    "        print(\"Hint :After sub ur choice number from random number, answer is\",sub)\n",
    "        guess_num=int(input(\" \\n last attempt \\nTo win a game again enter number to  match with random number: \"))\n",
    "        if (guess_num==a):\n",
    "            print(\"You Win , number match \",a)\n",
    "        else:\n",
    "            print(\"You Lost ,random number is \",a)\n",
    "    \n",
    "    elif (guess_num<a):\n",
    "        sub=guess_num-a;\n",
    "        print(\"Hint :After sub ur choice number from random number, answer is\",sub)\n",
    "        guess_num=int(input(\"\\nLast attempt \\nTo win a game again enter number which match with random number: \"))\n",
    "        if (guess_num==a):\n",
    "            print(\"You Win , number match \",a)\n",
    "        else:\n",
    "            print(\"You Lost ,random number is \",a)\n",
    "        \n"
   ]
  },
  {
   "cell_type": "code",
   "execution_count": null,
   "metadata": {},
   "outputs": [],
   "source": []
  }
 ],
 "metadata": {
  "kernelspec": {
   "display_name": "Python 3",
   "language": "python",
   "name": "python3"
  },
  "language_info": {
   "codemirror_mode": {
    "name": "ipython",
    "version": 3
   },
   "file_extension": ".py",
   "mimetype": "text/x-python",
   "name": "python",
   "nbconvert_exporter": "python",
   "pygments_lexer": "ipython3",
   "version": "3.7.4"
  }
 },
 "nbformat": 4,
 "nbformat_minor": 2
}
