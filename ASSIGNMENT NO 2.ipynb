{
 "cells": [
  {
   "cell_type": "code",
   "execution_count": 35,
   "metadata": {},
   "outputs": [
    {
     "name": "stdout",
     "output_type": "stream",
     "text": [
      "Enter Marks of English: 56\n",
      "Enter Marks of  Math: 80\n",
      "Enter Marks of  Physics: 75\n",
      "Enter Marks of Urdu : 60\n",
      "Enter Marks of  Biology: 67\n",
      "percentage: 67.60000000000001\n",
      "GRADE B\n"
     ]
    }
   ],
   "source": [
    "a=int(input(\"Enter Marks of English: \"))\n",
    "b=int(input(\"Enter Marks of  Math: \"))\n",
    "c=int(input(\"Enter Marks of  Physics: \"))\n",
    "d=int(input(\"Enter Marks of Urdu : \"))\n",
    "e=int(input(\"Enter Marks of  Biology: \"))\n",
    "total=(a+b+c+d+e)/500\n",
    "per=total*100\n",
    "\n",
    "print(\"percentage:\",per)\n",
    "\n",
    "if per>=80 and per<=100:\n",
    "    print (\"GRADE A+\")\n",
    "elif per>=70 and per<80:\n",
    "    print (\"GRADE A\") \n",
    "elif per>=60 and per<70:\n",
    "    print (\"GRADE B\") \n",
    "elif per>=50 and per<60:\n",
    "    print (\"GRADE C\") \n",
    "elif per>=40 and per<50:\n",
    "    print (\"GRADE D\")\n",
    "elif per>=33 and per<40:\n",
    "    print (\"GRADE E\")\n",
    "else:\n",
    "    print (\"U FAIL\") \n",
    "\n",
    "   \n",
    "   \n",
    "   \n",
    "   \n"
   ]
  },
  {
   "cell_type": "code",
   "execution_count": 29,
   "metadata": {},
   "outputs": [
    {
     "name": "stdout",
     "output_type": "stream",
     "text": [
      "enter number: 83\n",
      "The Number is Odd \n"
     ]
    }
   ],
   "source": [
    "a=int(input(\"enter number: \"))\n",
    "if (a % 2) == 0:\n",
    " print(\"The Number is Even\")\n",
    "else:\n",
    " print(\"The Number is Odd \")"
   ]
  },
  {
   "cell_type": "code",
   "execution_count": 28,
   "metadata": {},
   "outputs": [
    {
     "name": "stdout",
     "output_type": "stream",
     "text": [
      "The length of list is:  4\n"
     ]
    }
   ],
   "source": [
    "LenOfList=[\"warda\",\"maryam\",67,0.40]\n",
    "print(\"The length of list is: \" , len(LenOfList))"
   ]
  },
  {
   "cell_type": "code",
   "execution_count": 15,
   "metadata": {},
   "outputs": [
    {
     "name": "stdout",
     "output_type": "stream",
     "text": [
      "Sum of all item in the list:  22\n"
     ]
    }
   ],
   "source": [
    "SumOfList=[5,6,4,7]\n",
    "print(\"Sum of all item in the list: \" , sum(SumOfList))"
   ]
  },
  {
   "cell_type": "code",
   "execution_count": 30,
   "metadata": {},
   "outputs": [
    {
     "name": "stdout",
     "output_type": "stream",
     "text": [
      "Largest number in the numeric list is :  7\n"
     ]
    }
   ],
   "source": [
    "Lst=[5,6,4,7]\n",
    "print(\"Largest number in the numeric list is : \" , max(Lst))"
   ]
  },
  {
   "cell_type": "code",
   "execution_count": 34,
   "metadata": {},
   "outputs": [
    {
     "name": "stdout",
     "output_type": "stream",
     "text": [
      "Elements of list less than 5 is:  1\n",
      "Elements of list less than 5 is:  2\n",
      "Elements of list less than 5 is:  3\n"
     ]
    }
   ],
   "source": [
    "Lst=[1,2,3,5,8,13,21,34,55,89]\n",
    "for a in range(len(Lst)):\n",
    " if Lst[a]<5:\n",
    "   print(\"Elements of list less than 5 is: \",Lst[a])"
   ]
  },
  {
   "cell_type": "code",
   "execution_count": null,
   "metadata": {},
   "outputs": [],
   "source": []
  }
 ],
 "metadata": {
  "kernelspec": {
   "display_name": "Python 3",
   "language": "python",
   "name": "python3"
  },
  "language_info": {
   "codemirror_mode": {
    "name": "ipython",
    "version": 3
   },
   "file_extension": ".py",
   "mimetype": "text/x-python",
   "name": "python",
   "nbconvert_exporter": "python",
   "pygments_lexer": "ipython3",
   "version": "3.7.4"
  }
 },
 "nbformat": 4,
 "nbformat_minor": 2
}
