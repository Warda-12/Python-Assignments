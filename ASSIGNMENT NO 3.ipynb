{
 "cells": [
  {
   "cell_type": "code",
   "execution_count": 3,
   "metadata": {},
   "outputs": [
    {
     "name": "stdout",
     "output_type": "stream",
     "text": [
      "enter first number : 2\n",
      "enter second number: 3\n",
      "enter operator:  **\n",
      "ans: 8\n"
     ]
    }
   ],
   "source": [
    "a=int(input(\"enter first number : \"))\n",
    "b=int(input(\"enter second number: \"))\n",
    "op=input(\"enter operator:  \")\n",
    "\n",
    "if (op == '+'):\n",
    "    op=int(a)+int(b)\n",
    "    print(\"ans:\",op)\n",
    "elif (op == '-'):\n",
    "    op=int(a)-int(b)\n",
    "    print(\"ans:\",op)\n",
    "elif (op == '*'):\n",
    "    op=int(a)*int(b)\n",
    "    print(\"ans:\",op)\n",
    "elif (op == '/'):\n",
    "    op=int(a)/int(b)\n",
    "    print(\"ans:\",op)\n",
    "elif (op == '**'):\n",
    "    op=int(a)**int(b)\n",
    "    print(\"ans:\",op)\n",
    "else:\n",
    "    print(\"invalid operator\")"
   ]
  },
  {
   "cell_type": "code",
   "execution_count": 8,
   "metadata": {},
   "outputs": [
    {
     "name": "stdout",
     "output_type": "stream",
     "text": [
      "numeric value in list\n",
      "23\n",
      "30\n"
     ]
    }
   ],
   "source": [
    "lst=[\"warda\",\"haniah\",23,9.23,\"maryam\",30]\n",
    "num=[]\n",
    "print(\"numeric value in list\")\n",
    "for a in lst:\n",
    "      if type(a)==int:\n",
    "        print(a)"
   ]
  },
  {
   "cell_type": "code",
   "execution_count": 10,
   "metadata": {},
   "outputs": [
    {
     "name": "stdout",
     "output_type": "stream",
     "text": [
      "enter key:RollNo\n",
      "enter value of key:py05085\n",
      "{'firstname': 'warda', 'lastname': 'shamim', 'age': 21, 'RollNo': 'py05085'}\n"
     ]
    }
   ],
   "source": [
    "dict1={\"firstname\":\"warda\",\"lastname\":\"shamim\",\"age\":21}\n",
    "key=input(\"enter key:\")\n",
    "val=input(\"enter value of key:\")\n",
    "dict1.update({key : val})\n",
    "print(dict1)"
   ]
  },
  {
   "cell_type": "code",
   "execution_count": 12,
   "metadata": {},
   "outputs": [
    {
     "name": "stdout",
     "output_type": "stream",
     "text": [
      "sum of all numeric value is:  102\n"
     ]
    }
   ],
   "source": [
    "dict1={'a':50,'b': 30 ,'c':22}\n",
    "\n",
    "print(\"sum of all numeric value is: \",sum(dict1.values()))"
   ]
  },
  {
   "cell_type": "code",
   "execution_count": 16,
   "metadata": {},
   "outputs": [
    {
     "name": "stdout",
     "output_type": "stream",
     "text": [
      "duplicate values from list [1, 6, 7]\n"
     ]
    }
   ],
   "source": [
    "from collections import Counter\n",
    "list1= [1,6,7,2,1,7,8,6]\n",
    "cou=Counter(list1)\n",
    "res = [item for item, count in cou.items() if count>1]\n",
    "print(\"duplicate values from list\" , res)"
   ]
  },
  {
   "cell_type": "code",
   "execution_count": 19,
   "metadata": {},
   "outputs": [
    {
     "name": "stdout",
     "output_type": "stream",
     "text": [
      "enter key to find  :age\n",
      "key present \n"
     ]
    }
   ],
   "source": [
    "dict1={\"firstname\":\"warda\",\"lastname\":\"shamim\",\"age\":21}\n",
    "key=input(\"enter key to find  :\")\n",
    "for a in dict1:\n",
    "    if key in dict1.keys():\n",
    "        print(\"key present \")\n",
    "        break\n",
    "    else:\n",
    "        print(\"not present\")\n",
    "        break"
   ]
  },
  {
   "cell_type": "code",
   "execution_count": null,
   "metadata": {},
   "outputs": [],
   "source": []
  }
 ],
 "metadata": {
  "kernelspec": {
   "display_name": "Python 3",
   "language": "python",
   "name": "python3"
  },
  "language_info": {
   "codemirror_mode": {
    "name": "ipython",
    "version": 3
   },
   "file_extension": ".py",
   "mimetype": "text/x-python",
   "name": "python",
   "nbconvert_exporter": "python",
   "pygments_lexer": "ipython3",
   "version": "3.7.4"
  }
 },
 "nbformat": 4,
 "nbformat_minor": 2
}
